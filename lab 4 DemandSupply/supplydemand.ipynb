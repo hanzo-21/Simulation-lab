{
 "cells": [
  {
   "cell_type": "code",
   "execution_count": null,
   "metadata": {},
   "outputs": [],
   "source": [
    "# demand and supply \n",
    "# D = a+bP\n",
    "# S = c+dP\n",
    "# at equilibrium D=S\n",
    "\n",
    "\n",
    "\n",
    "\n",
    "import numpy as np\n",
    "import matplotlib.pyplot as plt\n",
    "\n",
    "#parameters of demand and supply\n",
    "a=500\n",
    "b=3\n",
    "c=100\n",
    "d=4\n",
    "n=29\n",
    "\n",
    "Price=np.linspace(0,100,num=n)\n",
    "\n",
    "Demand = a-b*Price\n",
    "Supply = c+d*Price\n",
    "\n",
    "plt.figure(figsize=(10,6))\n",
    "\n",
    "plt.plot(Price,Demand,label=\"Demand\",linestyle='--')\n",
    "plt.plot(Price,Supply,label=\"Supply\")\n",
    "\n",
    "eqb_price= (a-c)/(b+d)\n",
    "\n",
    "eqb_quantity= c+d*eqb_price\n",
    "plt.scatter(eqb_price,eqb_quantity,s=50,label='equlibrum')\n",
    "\n",
    "plt.title('Demand and supply')\n",
    "plt.xlabel('Price')\n",
    "plt.ylabel('Quantity')\n",
    "plt.legend()\n",
    "plt.grid(True)\n",
    "plt.show()\n",
    "\n"
   ]
  },
  {
   "cell_type": "code",
   "execution_count": null,
   "metadata": {},
   "outputs": [],
   "source": [
    "import numpy as np\n",
    "n=29\n",
    "Price=np.linspace(0,n)\n",
    "demand = 2 + 3*Price\n",
    "Supply = 2 - 3 * Price\n",
    "i=0\n",
    "while(i<n):\n",
    "    print(Price[i] , demand[i],Supply[i])\n",
    "    i+=1"
   ]
  }
 ],
 "metadata": {
  "kernelspec": {
   "display_name": "Python 3",
   "language": "python",
   "name": "python3"
  },
  "language_info": {
   "codemirror_mode": {
    "name": "ipython",
    "version": 3
   },
   "file_extension": ".py",
   "mimetype": "text/x-python",
   "name": "python",
   "nbconvert_exporter": "python",
   "pygments_lexer": "ipython3",
   "version": "3.12.0"
  }
 },
 "nbformat": 4,
 "nbformat_minor": 2
}
